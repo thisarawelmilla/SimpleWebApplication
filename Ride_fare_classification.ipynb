{
  "nbformat": 4,
  "nbformat_minor": 0,
  "metadata": {
    "colab": {
      "name": "Ride_fare_classification.ipynb",
      "provenance": [],
      "collapsed_sections": [],
      "authorship_tag": "ABX9TyM6GaDjnAasIUhrHX1ehRL9",
      "include_colab_link": true
    },
    "kernelspec": {
      "name": "python3",
      "display_name": "Python 3"
    }
  },
  "cells": [
    {
      "cell_type": "markdown",
      "metadata": {
        "id": "view-in-github",
        "colab_type": "text"
      },
      "source": [
        "<a href=\"https://colab.research.google.com/github/thisarawelmilla/SimpleWebApplication/blob/master/Ride_fare_classification.ipynb\" target=\"_parent\"><img src=\"https://colab.research.google.com/assets/colab-badge.svg\" alt=\"Open In Colab\"/></a>"
      ]
    },
    {
      "cell_type": "code",
      "metadata": {
        "id": "sYasJe7WPfwK",
        "colab_type": "code",
        "colab": {
          "base_uri": "https://localhost:8080/",
          "height": 125
        },
        "outputId": "eebaaf83-e3dc-4f06-c3d4-918f83968771"
      },
      "source": [
        "from google.colab import drive\n",
        "drive.mount('/content/drive')"
      ],
      "execution_count": null,
      "outputs": [
        {
          "output_type": "stream",
          "text": [
            "Go to this URL in a browser: https://accounts.google.com/o/oauth2/auth?client_id=947318989803-6bn6qk8qdgf4n4g3pfee6491hc0brc4i.apps.googleusercontent.com&redirect_uri=urn%3aietf%3awg%3aoauth%3a2.0%3aoob&response_type=code&scope=email%20https%3a%2f%2fwww.googleapis.com%2fauth%2fdocs.test%20https%3a%2f%2fwww.googleapis.com%2fauth%2fdrive%20https%3a%2f%2fwww.googleapis.com%2fauth%2fdrive.photos.readonly%20https%3a%2f%2fwww.googleapis.com%2fauth%2fpeopleapi.readonly\n",
            "\n",
            "Enter your authorization code:\n",
            "··········\n",
            "Mounted at /content/drive\n"
          ],
          "name": "stdout"
        }
      ]
    },
    {
      "cell_type": "code",
      "metadata": {
        "id": "NOXVW_3kx1sW",
        "colab_type": "code",
        "colab": {}
      },
      "source": [
        "from pathlib import Path\n",
        "import numpy as np\n",
        "import pandas as pd\n",
        "import tensorflow as tf\n",
        "from datetime import datetime\n",
        "\n",
        "from sklearn.metrics import mean_squared_error, confusion_matrix, f1_score, mean_absolute_error, roc_curve, roc_auc_score\n",
        "from sklearn.datasets import make_regression\n",
        "from sklearn.utils import shuffle\n",
        "from sklearn.model_selection import cross_val_score, train_test_split\n",
        "\n",
        "from tensorflow import keras\n",
        "from tensorflow.keras import Sequential\n",
        "from tensorflow.keras.layers import Flatten, Dense,Dropout,BatchNormalization\n",
        "import xgboost as xgb\n",
        "from xgboost import XGBClassifier, XGBRegressor\n",
        "import lightgbm\n",
        "from lightgbm import LGBMRegressor, LGBMClassifier\n",
        "\n",
        "import matplotlib.pyplot as plt\n",
        "%matplotlib inline\n"
      ],
      "execution_count": null,
      "outputs": []
    },
    {
      "cell_type": "code",
      "metadata": {
        "id": "7kfDh_7ez2Q5",
        "colab_type": "code",
        "colab": {}
      },
      "source": [
        "def histogram (feature, bins, ranges, labels):\n",
        "  for i in range(len(feature)):\n",
        "    pyplot.hist(feature[i], bins[i], range=(0, ranges), alpha=0.5, label=labels[i])\n",
        "  pyplot.legend(loc='upper right')\n",
        "  pyplot.show()"
      ],
      "execution_count": null,
      "outputs": []
    },
    {
      "cell_type": "code",
      "metadata": {
        "id": "IyXT7ZZl5NAW",
        "colab_type": "code",
        "colab": {}
      },
      "source": [
        "col_names = list(prepoccessed_df.columns)\n",
        "incorrect = prepoccessed_df[prepoccessed_df['label']=='incorrect']\n",
        "correct = prepoccessed_df[prepoccessed_df['label']=='correct']\n",
        "for i in col_names:\n",
        "  try:\n",
        "    max_val = prepoccessed_df[i].idxmax()\n",
        "    histogram ([incorrect[i], correct[i]],[100, 100],  max_val, [i+'-incorrect', i+'-correct'])\n",
        "  except:\n",
        "    print('cannot show histrogram for '+ i)"
      ],
      "execution_count": null,
      "outputs": []
    },
    {
      "cell_type": "markdown",
      "metadata": {
        "id": "52oTtunj0MHt",
        "colab_type": "text"
      },
      "source": [
        "# PREPROCESSING "
      ]
    },
    {
      "cell_type": "code",
      "metadata": {
        "id": "VycxZNlQv5Bl",
        "colab_type": "code",
        "colab": {}
      },
      "source": [
        "mdef date_time(col_name):\n",
        "  hour =[]\n",
        "  date = []\n",
        "  \n",
        "  for i in df[col_name]:\n",
        "    date_time = i.split(\" \")\n",
        "    get_date = date_time[0].split(\"/\")\n",
        "    get_time = date_time[1].split(\":\")\n",
        "    hour.append(int(get_time[0])+int(get_time[1])/60.0)\n",
        "    try: \n",
        "      d0 = datetime(int(get_date[2]), int(get_date[1]), int(get_date[0]), int(get_time[0]), int(get_time[1]), 0)\n",
        "    except ValueError:\n",
        "      d0 = datetime(int(get_date[2]), int(get_date[0]), int(get_date[1]), int(get_time[0]), int(get_time[1]), 0)\n",
        "    day =d0.weekday()\n",
        "    date.append(day)\n",
        "\n",
        "  return hour, date\n"
      ],
      "execution_count": null,
      "outputs": []
    },
    {
      "cell_type": "code",
      "metadata": {
        "id": "lnLvIZd5uEyS",
        "colab_type": "code",
        "colab": {}
      },
      "source": [
        "def get_all_riding_hours(pickup_hour, drop_hour):\n",
        "  riding_hours = []\n",
        "  n=0\n",
        "  for i in pickup_hour:\n",
        "    d = int(drop_hour[n])\n",
        "    count = int(i)\n",
        "    q =[]\n",
        "    if d > int(i):\n",
        "      while count <= d:\n",
        "        q.append(count)\n",
        "        count +=1\n",
        "    elif d == int(i):\n",
        "        q.append(count)\n",
        "    else:\n",
        "      while count <25:\n",
        "        q.append(count)\n",
        "        count +=1\n",
        "      while count <= d:\n",
        "        q.append(count)\n",
        "        count +=1\n",
        "    riding_hours.append(q)\n",
        "    n+=1\n",
        "    return riding_hours"
      ],
      "execution_count": null,
      "outputs": []
    },
    {
      "cell_type": "code",
      "metadata": {
        "id": "YpfLWJyoyjzm",
        "colab_type": "code",
        "colab": {}
      },
      "source": [
        "def feature_transform(df):\n",
        "  pick_lat = df['pick_lat'].to_numpy()\n",
        "  pick_lon = df['pick_lon'].to_numpy()\n",
        "  drop_lat = df['drop_lat'].to_numpy()\n",
        "  drop_lon = df['drop_lon'].to_numpy()\n",
        "\n",
        "  distance = ((abs(drop_lat-pick_lat)**2 + abs(drop_lon-pick_lon)**2)**0.5)*1000\n",
        "  df['distance'] = pd.Series(distance, index = df.index)\n",
        "\n",
        "  loc_ratio = abs(drop_lat-pick_lat)/abs(drop_lon-pick_lon+0.0000001)\n",
        "  df['loc_ratio'] = pd.Series(loc_ratio, index = df.index)\n",
        "\n",
        "  #loc_pick_drop = abs(pick_lat-pick_lon)/abs(drop_lat-drop_lon+0.0000001)\n",
        "  #df['loc_pick_drop'] = pd.Series(loc_pick_drop, index = df.index)\n",
        "\n",
        "  duration = df['duration'].to_numpy()\n",
        "  distance = df['distance'].to_numpy()\n",
        "  fare = df['fare'].to_numpy()\n",
        "  meter_waiting = df['meter_waiting'].to_numpy()\n",
        "  meter_waiting_fare = df['meter_waiting_fare'].to_numpy()\n",
        "  add_fare = df['additional_fare'].to_numpy()\n",
        "  \n",
        "  riding_duration = duration - meter_waiting\n",
        "  df['riding_duration'] = pd.Series(riding_duration, index = df.index)\n",
        "\n",
        "  riding_duration_ratio = duration/(riding_duration +0.0000001)\n",
        "  df['riding_duration_ratio'] = pd.Series(riding_duration_ratio, index = df.index)\n",
        "\n",
        "  extra_fare = fare - (add_fare + meter_waiting_fare)\n",
        "  df['fare'] = pd.Series(extra_fare, index = df.index)\n",
        "\n",
        "  speed = distance /(fare+0.0000001)\n",
        "  df['fare_rate'] = pd.Series(speed, index = df.index)\n",
        "\n",
        "  duration = df['riding_duration'].to_numpy()\n",
        "\n",
        "  fare_rate_for_dur = duration /(fare+0.0000001)\n",
        "  df['fare_rate_for_dur'] = pd.Series(fare_rate_for_dur, index = df.index)\n",
        "\n",
        "  waiting_fare_rate = meter_waiting_fare /(meter_waiting+0.0000001)\n",
        "  df['waiting_fare_rate'] = pd.Series(waiting_fare_rate, index = df.index)\n",
        "\n",
        "  additional_fare = df['additional_fare'].to_numpy()\n",
        "  meter_waiting_till_pickup = df['meter_waiting_till_pickup'].to_numpy()\n",
        "\n",
        "  additional_fare_rate = additional_fare /(meter_waiting_till_pickup+0.0000001)\n",
        "  df['additional_fare_rate'] = pd.Series(additional_fare_rate, index = df.index)\n",
        "\n",
        "  additional_per_dur = additional_fare /(duration+0.0000001)\n",
        "  df['additional_per_dur'] = pd.Series(additional_per_dur, index = df.index)\n",
        "\n",
        "  additional_per_dis = additional_fare /(distance+0.0000001)\n",
        "  df['additional_per_dis'] = pd.Series(additional_per_dis, index = df.index)\n",
        "\n",
        "  dis_per_dur = distance /(duration+0.0000001)\n",
        "  df['dis_per_dur'] = pd.Series(dis_per_dur, index = df.index)\n",
        "\n",
        "  waiting_per_dur = meter_waiting /(duration+0.0000001)\n",
        "  df['waiting_per_dur'] = pd.Series(waiting_per_dur, index = df.index)\n",
        "\n",
        "  waiting_per_dis = meter_waiting /(distance+0.0000001)\n",
        "  df['waiting_per_dis'] = pd.Series(waiting_per_dis, index = df.index)\n",
        "\n",
        "  return df\n"
      ],
      "execution_count": null,
      "outputs": []
    },
    {
      "cell_type": "code",
      "metadata": {
        "id": "Ig-QwY8_CSjr",
        "colab_type": "code",
        "colab": {}
      },
      "source": [
        "def feature_crossing(df, column_list):\n",
        "    crossed_df = df.copy()\n",
        "    crossed_df[f'{column_list[0]}_{column_list[1]}'] = crossed_df.agg(lambda x: f\"{x[column_list[0]]}_{x[column_list[1]]}\", axis=1)\n",
        "            \n",
        "    return crossed_df"
      ],
      "execution_count": null,
      "outputs": []
    },
    {
      "cell_type": "markdown",
      "metadata": {
        "id": "Yqz9PMIW0lyM",
        "colab_type": "text"
      },
      "source": [
        "# SAMPLING"
      ]
    },
    {
      "cell_type": "code",
      "metadata": {
        "id": "OjBUSRh40pJn",
        "colab_type": "code",
        "colab": {}
      },
      "source": [
        "from sklearn.utils import resample\n",
        "\n",
        "def sampling(df, upsample, downsample, upsample_ratio, downsample_ratio):\n",
        "  df_minority = df[df['label']=='incorrect']\n",
        "  df_majority = df[df['label']=='correct']\n",
        "\n",
        "  if upsample:\n",
        "    df_minority_upsampled = resample(df_minority, \n",
        "                                    replace=True,   \n",
        "                                    n_samples=upsample_ratio)\n",
        "  if downsample:\n",
        "    df_majority_downsampled = resample(df_majority, \n",
        "                                    replace=False,  \n",
        "                                    n_samples=downsample_ratio)\n",
        "  print(df_minority_upsampled.shape)\n",
        "  print(df_majority_downsampled.shape)\n",
        "\n",
        "  df = pd.concat([df_minority_upsampled, df_majority_downsampled])\n",
        "  df.label.value_counts()\n",
        "\n",
        "  return df"
      ],
      "execution_count": null,
      "outputs": []
    },
    {
      "cell_type": "markdown",
      "metadata": {
        "id": "qyNnIAoW1yKN",
        "colab_type": "text"
      },
      "source": [
        "# MODELS FOR TRAINING"
      ]
    },
    {
      "cell_type": "code",
      "metadata": {
        "id": "CAxOAPos19mc",
        "colab_type": "code",
        "colab": {}
      },
      "source": [
        "from sklearn.preprocessing import LabelEncoder\n",
        "\n",
        "def prep_for_trainig(df):\n",
        "  label1 = LabelEncoder()\n",
        "  df['label'] = label1.fit_transform(df['label'])\n",
        "  X=df.drop(['label'],axis=1)\n",
        "  y=df['label']\n",
        "  X.head()\n",
        "\n",
        "  X_train, X_test, y_train, y_test = train_test_split(X, y, test_size=0.2)\n",
        "\n",
        "  return X_train, X_test, y_train, y_test\n"
      ],
      "execution_count": null,
      "outputs": []
    },
    {
      "cell_type": "code",
      "metadata": {
        "colab_type": "code",
        "id": "-GCs-ing6FdH",
        "colab": {}
      },
      "source": [
        "def XGBClassification_model( X_train, X_test, y_train, y_test):\n",
        "  model =  LGBMClassification(n_estimators=1000,learning_rate=0.02,verbose_eval=4) \n",
        "  model.fit(X_train,y_train)\n",
        "\n",
        "  prediction = model.predict(X_test)\n",
        "\n",
        "  mae = mean_absolute_error(prediction, y_test)\n",
        "  mse = mean_squared_error(prediction, y_test)\n",
        "  print('MAE :', mae, 'MSE :', mse)\n",
        "\n",
        "  return model"
      ],
      "execution_count": null,
      "outputs": []
    },
    {
      "cell_type": "code",
      "metadata": {
        "colab_type": "code",
        "id": "LeYoTos16FdU",
        "colab": {}
      },
      "source": [
        "def XGBRegressor_model( X_train, X_test, y_train, y_test):\n",
        "  model =  LGBMRegressor(n_estimators=1000,learning_rate=0.02,verbose_eval=4) \n",
        "  model.fit(X_train,y_train)\n",
        "\n",
        "  prediction = model.predict(X_test)\n",
        "\n",
        "  mae = mean_absolute_error(prediction, y_test)\n",
        "  mse = mean_squared_error(prediction, y_test)\n",
        "  print('MAE :', mae, 'MSE :', mse)\n",
        "\n",
        "  return model\n"
      ],
      "execution_count": null,
      "outputs": []
    },
    {
      "cell_type": "code",
      "metadata": {
        "id": "x8rwqFBf5xbH",
        "colab_type": "code",
        "colab": {}
      },
      "source": [
        "def LGBMClassification_model( X_train, X_test, y_train, y_test):\n",
        "  model =  LGBMClassification(n_estimators=1000,learning_rate=0.02,verbose_eval=4) \n",
        "  model.fit(X_train,y_train)\n",
        "\n",
        "  prediction = model.predict(X_test)\n",
        "\n",
        "  mae = mean_absolute_error(prediction, y_test)\n",
        "  mse = mean_squared_error(prediction, y_test)\n",
        "  print('MAE :', mae, 'MSE :', mse)\n",
        "\n",
        "  return model"
      ],
      "execution_count": null,
      "outputs": []
    },
    {
      "cell_type": "code",
      "metadata": {
        "id": "jIkii7OW2aG0",
        "colab_type": "code",
        "colab": {}
      },
      "source": [
        "def LGBMRegressor_model( X_train, X_test, y_train, y_test):\n",
        "  model =  LGBMRegressor(n_estimators=1000,learning_rate=0.02,verbose_eval=4) \n",
        "  model.fit(X_train,y_train)\n",
        "\n",
        "  prediction = model.predict(X_test)\n",
        "\n",
        "  mae = mean_absolute_error(prediction, y_test)\n",
        "  mse = mean_squared_error(prediction, y_test)\n",
        "  print('MAE :', mae, 'MSE :', mse)\n",
        "\n",
        "  return model\n"
      ],
      "execution_count": null,
      "outputs": []
    },
    {
      "cell_type": "markdown",
      "metadata": {
        "id": "v8CRKFpR728F",
        "colab_type": "text"
      },
      "source": [
        "# MODEL ESEMBLING"
      ]
    },
    {
      "cell_type": "code",
      "metadata": {
        "id": "Ax2Rixm66Kkq",
        "colab_type": "code",
        "colab": {}
      },
      "source": [
        "def init_h2o():\n",
        "  !pip install -f http://h2o-release.s3.amazonaws.com/h2o/latest_stable_Py.html h2o\n",
        "\n",
        "  import h2o\n",
        "  from h2o.automl import H2OAutoML\n",
        "  h2o.init()  \n"
      ],
      "execution_count": null,
      "outputs": []
    },
    {
      "cell_type": "code",
      "metadata": {
        "id": "mXvlA1RdwsJX",
        "colab_type": "code",
        "colab": {}
      },
      "source": [
        "def h2o_model(X_train, y_train):\n",
        "  X_train = X_train.join(y_train)\n",
        "  X_train = h2o.H2OFrame(X_train)\n",
        "  x = X_train.columns\n",
        "  y = \"label\"\n",
        "  x.remove(y)\n",
        "\n",
        "  X_train[\"label\"] = X_train[\"label\"]\n",
        "  model = H2OAutoML(max_models=60, seed=1, max_runtime_secs=3600)\n",
        "\n",
        "  model.train(x = x, y = y, training_frame = hf)\n",
        "\n",
        "  model.leaderboard\n",
        "\n",
        "  return model"
      ],
      "execution_count": null,
      "outputs": []
    },
    {
      "cell_type": "code",
      "metadata": {
        "id": "w3cY9R39yioQ",
        "colab_type": "code",
        "colab": {}
      },
      "source": [
        "def h2o_val(model, X_test, y_test):\n",
        "  test = h2o.H2OFrame(X_test)\n",
        "  prediction = model.leader.predict(test)\n",
        "  pred = h2o.as_list(prediction)\n",
        "\n",
        "  print(roc_auc_score(y_test, pred['predict']))"
      ],
      "execution_count": null,
      "outputs": []
    },
    {
      "cell_type": "markdown",
      "metadata": {
        "id": "RrJfvDFi3T11",
        "colab_type": "text"
      },
      "source": [
        "# MODEL VISUALIZATION"
      ]
    },
    {
      "cell_type": "code",
      "metadata": {
        "id": "qUFFGVr04Bni",
        "colab_type": "code",
        "colab": {}
      },
      "source": [
        "def show_roc(model, data_feature, label):\n",
        "  pred = model.predict(data_feature)\n",
        "  roc_auc = roc_auc_score(label, pred)\n",
        "\n",
        "  roc_fpr, roc_tpr , _ = roc_curve(label, pred)\n",
        "  pyplot.plot(roc_fpr, roc_tpr, linestyle='--', label='pred')\n",
        "\n",
        "  pyplot.xlabel('False Positive Rate')\n",
        "  pyplot.ylabel('True Positive Rate')\n",
        "\n",
        "  pyplot.legend()\n",
        "  pyplot.show()\n",
        "\n",
        "  print('ROC AUC=%.5f' % (roc_auc))"
      ],
      "execution_count": null,
      "outputs": []
    },
    {
      "cell_type": "code",
      "metadata": {
        "id": "q9xzP14xiRgB",
        "colab_type": "code",
        "colab": {}
      },
      "source": [
        "def feature_important_lightgbm(model):\n",
        "  lightgbm.plot_importance(model)\n",
        "  plt.rcParams['figure.figsize'] = [5, 7]\n",
        "  plt.rcParams['figure.dpi'] = 100\n",
        "  plt.rcParams['figure.facecolor'] = 'w'\n",
        "  plt.show()"
      ],
      "execution_count": null,
      "outputs": []
    },
    {
      "cell_type": "code",
      "metadata": {
        "colab_type": "code",
        "id": "QQc3x3UcBWcG",
        "colab": {}
      },
      "source": [
        "def feature_important_xgb(model):\n",
        "  xgb.plot_importance(model)\n",
        "  plt.rcParams['figure.figsize'] = [25, 15]\n",
        "  plt.show()"
      ],
      "execution_count": null,
      "outputs": []
    },
    {
      "cell_type": "markdown",
      "metadata": {
        "id": "ueY8Wfy-0eow",
        "colab_type": "text"
      },
      "source": [
        "# TRAINING"
      ]
    },
    {
      "cell_type": "code",
      "metadata": {
        "id": "O5GQ5AHex2PI",
        "colab_type": "code",
        "colab": {}
      },
      "source": [
        "def preprocessing(df):\n",
        "  pickup_hour, pickup_date = date_time('pickup_time')\n",
        "  drop_hour, drop_date = date_time('drop_time')\n",
        "\n",
        "  df['pickup_date'] = pd.Series(np.array(pickup_date), index = df.index)\n",
        "  df['drop_date'] = pd.Series(np.array(drop_date), index = df.index)\n",
        "  df['pickup_slot'] = pd.Series(np.array(pickup_hour), index = df.index)\n",
        "  df['drop_slot'] = pd.Series(np.array(drop_hour), index = df.index)\n",
        "\n",
        "  #riding_hours = get_all_riding_hours(pickup_hour, drop_hour)\n",
        "  #df['riding_hours'] = pd.Series(np.array(riding_hours), index = df.index)\n",
        "  \n",
        "  df = df.drop('pickup_time', axis = 1)\n",
        "  df = df.drop('drop_time', axis = 1)\n",
        "  df = df.drop('tripid', axis = 1)\n",
        "\n",
        "  df = feature_transform(df)\n",
        "\n",
        "  #df = feature_crossing(df, ['riding_duration', 'distance'])\n",
        "  from sklearn.utils import shuffle\n",
        "  df = shuffle(df)\n",
        "  df = df[df['fare'].notna()]\n",
        "  df = df[df['additional_fare'].notna()]\n",
        "\n",
        "  df = sampling(df, True, True, 7000, 6000)\n",
        "  \n",
        "  df = shuffle(df)\n",
        "\n",
        "  return df"
      ],
      "execution_count": null,
      "outputs": []
    },
    {
      "cell_type": "code",
      "metadata": {
        "id": "Eww6GFVgHMKV",
        "colab_type": "code",
        "colab": {}
      },
      "source": [
        "def training(df):\n",
        "  \n",
        "  X_train, X_test, y_train, y_test = prep_for_trainig(df)\n",
        "\n",
        "  model = LGBMRegressor_model( X_train, X_test, y_train, y_test)\n",
        "  #model = LGBMClassification_model( X_train, X_test, y_train, y_test)\n",
        "  #model = XGBClassification_model( X_train, X_test, y_train, y_test)\n",
        "  #model = XGBRegressor_model( X_train, X_test, y_train, y_test)\n",
        "\n",
        "  show_roc(model, X_train, y_train)\n",
        "  show_roc(model, X_test, y_test)\n",
        "\n",
        "  feature_important_lightgbm(model)\n",
        "  #feature_important_xgb(model)\n",
        "\n",
        "  return model"
      ],
      "execution_count": null,
      "outputs": []
    },
    {
      "cell_type": "code",
      "metadata": {
        "id": "Jl8livOEecc8",
        "colab_type": "code",
        "colab": {}
      },
      "source": [
        "df = pd.read_csv(\"/content/drive/My Drive/sem 7/train.csv\")\n",
        "test_df = pd.read_csv(\"/content/drive/My Drive/sem 7/test.csv\")"
      ],
      "execution_count": null,
      "outputs": []
    },
    {
      "cell_type": "code",
      "metadata": {
        "id": "bdxWsu4Yf6qh",
        "colab_type": "code",
        "colab": {
          "base_uri": "https://localhost:8080/",
          "height": 197
        },
        "outputId": "10444fbd-2f09-4ac3-fd9c-a3a045d01d0f"
      },
      "source": [
        "df.head()"
      ],
      "execution_count": null,
      "outputs": [
        {
          "output_type": "execute_result",
          "data": {
            "text/html": [
              "<div>\n",
              "<style scoped>\n",
              "    .dataframe tbody tr th:only-of-type {\n",
              "        vertical-align: middle;\n",
              "    }\n",
              "\n",
              "    .dataframe tbody tr th {\n",
              "        vertical-align: top;\n",
              "    }\n",
              "\n",
              "    .dataframe thead th {\n",
              "        text-align: right;\n",
              "    }\n",
              "</style>\n",
              "<table border=\"1\" class=\"dataframe\">\n",
              "  <thead>\n",
              "    <tr style=\"text-align: right;\">\n",
              "      <th></th>\n",
              "      <th>tripid</th>\n",
              "      <th>additional_fare</th>\n",
              "      <th>duration</th>\n",
              "      <th>meter_waiting</th>\n",
              "      <th>meter_waiting_fare</th>\n",
              "      <th>meter_waiting_till_pickup</th>\n",
              "      <th>pickup_time</th>\n",
              "      <th>drop_time</th>\n",
              "      <th>pick_lat</th>\n",
              "      <th>pick_lon</th>\n",
              "      <th>drop_lat</th>\n",
              "      <th>drop_lon</th>\n",
              "      <th>fare</th>\n",
              "      <th>label</th>\n",
              "      <th>pickup_date</th>\n",
              "      <th>drop_date</th>\n",
              "      <th>pickup_slot</th>\n",
              "      <th>drop_slot</th>\n",
              "    </tr>\n",
              "  </thead>\n",
              "  <tbody>\n",
              "    <tr>\n",
              "      <th>0</th>\n",
              "      <td>189123628</td>\n",
              "      <td>10.5</td>\n",
              "      <td>834.0</td>\n",
              "      <td>56.0</td>\n",
              "      <td>0.0000</td>\n",
              "      <td>64.0</td>\n",
              "      <td>11/1/2019 0:20</td>\n",
              "      <td>11/1/2019 0:34</td>\n",
              "      <td>6.86252</td>\n",
              "      <td>79.8993</td>\n",
              "      <td>6.90330</td>\n",
              "      <td>79.8783</td>\n",
              "      <td>270.32</td>\n",
              "      <td>correct</td>\n",
              "      <td>4</td>\n",
              "      <td>4</td>\n",
              "      <td>0.333333</td>\n",
              "      <td>0.566667</td>\n",
              "    </tr>\n",
              "    <tr>\n",
              "      <th>1</th>\n",
              "      <td>189125358</td>\n",
              "      <td>10.5</td>\n",
              "      <td>791.0</td>\n",
              "      <td>47.0</td>\n",
              "      <td>0.0000</td>\n",
              "      <td>134.0</td>\n",
              "      <td>11/1/2019 0:56</td>\n",
              "      <td>11/1/2019 1:09</td>\n",
              "      <td>6.88589</td>\n",
              "      <td>79.8984</td>\n",
              "      <td>6.91373</td>\n",
              "      <td>79.8923</td>\n",
              "      <td>197.85</td>\n",
              "      <td>correct</td>\n",
              "      <td>4</td>\n",
              "      <td>4</td>\n",
              "      <td>0.933333</td>\n",
              "      <td>1.150000</td>\n",
              "    </tr>\n",
              "    <tr>\n",
              "      <th>2</th>\n",
              "      <td>189125719</td>\n",
              "      <td>10.5</td>\n",
              "      <td>1087.0</td>\n",
              "      <td>80.0</td>\n",
              "      <td>0.0000</td>\n",
              "      <td>61.0</td>\n",
              "      <td>11/1/2019 1:08</td>\n",
              "      <td>11/1/2019 1:26</td>\n",
              "      <td>6.90839</td>\n",
              "      <td>79.8651</td>\n",
              "      <td>6.93669</td>\n",
              "      <td>79.9146</td>\n",
              "      <td>301.64</td>\n",
              "      <td>correct</td>\n",
              "      <td>4</td>\n",
              "      <td>4</td>\n",
              "      <td>1.133333</td>\n",
              "      <td>1.433333</td>\n",
              "    </tr>\n",
              "    <tr>\n",
              "      <th>3</th>\n",
              "      <td>189127273</td>\n",
              "      <td>10.5</td>\n",
              "      <td>598.0</td>\n",
              "      <td>271.0</td>\n",
              "      <td>15.6638</td>\n",
              "      <td>68.0</td>\n",
              "      <td>11/1/2019 2:27</td>\n",
              "      <td>11/1/2019 2:37</td>\n",
              "      <td>6.92570</td>\n",
              "      <td>79.8895</td>\n",
              "      <td>6.92748</td>\n",
              "      <td>79.8971</td>\n",
              "      <td>82.30</td>\n",
              "      <td>correct</td>\n",
              "      <td>4</td>\n",
              "      <td>4</td>\n",
              "      <td>2.450000</td>\n",
              "      <td>2.616667</td>\n",
              "    </tr>\n",
              "    <tr>\n",
              "      <th>4</th>\n",
              "      <td>189128020</td>\n",
              "      <td>NaN</td>\n",
              "      <td>NaN</td>\n",
              "      <td>NaN</td>\n",
              "      <td>NaN</td>\n",
              "      <td>NaN</td>\n",
              "      <td>11/1/2019 3:34</td>\n",
              "      <td>11/1/2019 3:51</td>\n",
              "      <td>6.87441</td>\n",
              "      <td>79.8615</td>\n",
              "      <td>6.84478</td>\n",
              "      <td>79.9290</td>\n",
              "      <td>358.39</td>\n",
              "      <td>correct</td>\n",
              "      <td>4</td>\n",
              "      <td>4</td>\n",
              "      <td>3.566667</td>\n",
              "      <td>3.850000</td>\n",
              "    </tr>\n",
              "  </tbody>\n",
              "</table>\n",
              "</div>"
            ],
            "text/plain": [
              "      tripid  additional_fare  duration  ...  drop_date  pickup_slot  drop_slot\n",
              "0  189123628             10.5     834.0  ...          4     0.333333   0.566667\n",
              "1  189125358             10.5     791.0  ...          4     0.933333   1.150000\n",
              "2  189125719             10.5    1087.0  ...          4     1.133333   1.433333\n",
              "3  189127273             10.5     598.0  ...          4     2.450000   2.616667\n",
              "4  189128020              NaN       NaN  ...          4     3.566667   3.850000\n",
              "\n",
              "[5 rows x 18 columns]"
            ]
          },
          "metadata": {
            "tags": []
          },
          "execution_count": 38
        }
      ]
    },
    {
      "cell_type": "code",
      "metadata": {
        "id": "0pTN_J39emDD",
        "colab_type": "code",
        "colab": {
          "base_uri": "https://localhost:8080/",
          "height": 52
        },
        "outputId": "a0826f69-6861-4a5c-c9f2-7cb9da75b162"
      },
      "source": [
        "prepoccessed_df = preprocessing(df)"
      ],
      "execution_count": null,
      "outputs": [
        {
          "output_type": "stream",
          "text": [
            "(7000, 28)\n",
            "(6000, 28)\n"
          ],
          "name": "stdout"
        }
      ]
    },
    {
      "cell_type": "code",
      "metadata": {
        "id": "sxJ6lVangGMB",
        "colab_type": "code",
        "colab": {
          "base_uri": "https://localhost:8080/",
          "height": 217
        },
        "outputId": "059dade7-fa25-47b0-d83e-d24d82516ac1"
      },
      "source": [
        "prepoccessed_df.head()"
      ],
      "execution_count": null,
      "outputs": [
        {
          "output_type": "execute_result",
          "data": {
            "text/html": [
              "<div>\n",
              "<style scoped>\n",
              "    .dataframe tbody tr th:only-of-type {\n",
              "        vertical-align: middle;\n",
              "    }\n",
              "\n",
              "    .dataframe tbody tr th {\n",
              "        vertical-align: top;\n",
              "    }\n",
              "\n",
              "    .dataframe thead th {\n",
              "        text-align: right;\n",
              "    }\n",
              "</style>\n",
              "<table border=\"1\" class=\"dataframe\">\n",
              "  <thead>\n",
              "    <tr style=\"text-align: right;\">\n",
              "      <th></th>\n",
              "      <th>additional_fare</th>\n",
              "      <th>duration</th>\n",
              "      <th>meter_waiting</th>\n",
              "      <th>meter_waiting_fare</th>\n",
              "      <th>meter_waiting_till_pickup</th>\n",
              "      <th>pick_lat</th>\n",
              "      <th>pick_lon</th>\n",
              "      <th>drop_lat</th>\n",
              "      <th>drop_lon</th>\n",
              "      <th>fare</th>\n",
              "      <th>label</th>\n",
              "      <th>pickup_date</th>\n",
              "      <th>drop_date</th>\n",
              "      <th>pickup_slot</th>\n",
              "      <th>drop_slot</th>\n",
              "      <th>distance</th>\n",
              "      <th>loc_ratio</th>\n",
              "      <th>riding_duration</th>\n",
              "      <th>riding_duration_ratio</th>\n",
              "      <th>fare_rate</th>\n",
              "      <th>fare_rate_for_dur</th>\n",
              "      <th>waiting_fare_rate</th>\n",
              "      <th>additional_fare_rate</th>\n",
              "      <th>additional_per_dur</th>\n",
              "      <th>additional_per_dis</th>\n",
              "      <th>dis_per_dur</th>\n",
              "      <th>waiting_per_dur</th>\n",
              "      <th>waiting_per_dis</th>\n",
              "    </tr>\n",
              "  </thead>\n",
              "  <tbody>\n",
              "    <tr>\n",
              "      <th>12208</th>\n",
              "      <td>10.5</td>\n",
              "      <td>667.0</td>\n",
              "      <td>23.0</td>\n",
              "      <td>0.0000</td>\n",
              "      <td>48.0</td>\n",
              "      <td>7.12515</td>\n",
              "      <td>79.8847</td>\n",
              "      <td>7.16599</td>\n",
              "      <td>79.8847</td>\n",
              "      <td>176.9700</td>\n",
              "      <td>correct</td>\n",
              "      <td>0</td>\n",
              "      <td>0</td>\n",
              "      <td>7.433333</td>\n",
              "      <td>7.616667</td>\n",
              "      <td>40.840000</td>\n",
              "      <td>408400.000000</td>\n",
              "      <td>644.0</td>\n",
              "      <td>1.035714</td>\n",
              "      <td>0.230774</td>\n",
              "      <td>3.639035</td>\n",
              "      <td>0.0000</td>\n",
              "      <td>0.218750</td>\n",
              "      <td>0.016304</td>\n",
              "      <td>0.257101</td>\n",
              "      <td>0.063416</td>\n",
              "      <td>0.035714</td>\n",
              "      <td>0.563173</td>\n",
              "    </tr>\n",
              "    <tr>\n",
              "      <th>12614</th>\n",
              "      <td>10.5</td>\n",
              "      <td>2380.0</td>\n",
              "      <td>0.0</td>\n",
              "      <td>0.0000</td>\n",
              "      <td>15.0</td>\n",
              "      <td>6.92156</td>\n",
              "      <td>79.8479</td>\n",
              "      <td>6.92163</td>\n",
              "      <td>79.8479</td>\n",
              "      <td>50.0000</td>\n",
              "      <td>incorrect</td>\n",
              "      <td>5</td>\n",
              "      <td>5</td>\n",
              "      <td>9.683333</td>\n",
              "      <td>10.350000</td>\n",
              "      <td>0.070000</td>\n",
              "      <td>700.000000</td>\n",
              "      <td>2380.0</td>\n",
              "      <td>1.000000</td>\n",
              "      <td>0.001400</td>\n",
              "      <td>47.600000</td>\n",
              "      <td>0.0000</td>\n",
              "      <td>0.700000</td>\n",
              "      <td>0.004412</td>\n",
              "      <td>149.999786</td>\n",
              "      <td>0.000029</td>\n",
              "      <td>0.000000</td>\n",
              "      <td>0.000000</td>\n",
              "    </tr>\n",
              "    <tr>\n",
              "      <th>3461</th>\n",
              "      <td>10.5</td>\n",
              "      <td>16663.0</td>\n",
              "      <td>8400.0</td>\n",
              "      <td>485.5200</td>\n",
              "      <td>49.0</td>\n",
              "      <td>6.91258</td>\n",
              "      <td>79.8744</td>\n",
              "      <td>6.91254</td>\n",
              "      <td>79.8746</td>\n",
              "      <td>1037.9400</td>\n",
              "      <td>correct</td>\n",
              "      <td>3</td>\n",
              "      <td>3</td>\n",
              "      <td>9.783333</td>\n",
              "      <td>14.400000</td>\n",
              "      <td>0.203961</td>\n",
              "      <td>0.199900</td>\n",
              "      <td>8263.0</td>\n",
              "      <td>2.016580</td>\n",
              "      <td>0.000197</td>\n",
              "      <td>7.960961</td>\n",
              "      <td>0.0578</td>\n",
              "      <td>0.214286</td>\n",
              "      <td>0.001271</td>\n",
              "      <td>51.480460</td>\n",
              "      <td>0.000025</td>\n",
              "      <td>1.016580</td>\n",
              "      <td>41184.368185</td>\n",
              "    </tr>\n",
              "    <tr>\n",
              "      <th>6441</th>\n",
              "      <td>10.5</td>\n",
              "      <td>2103.0</td>\n",
              "      <td>1251.0</td>\n",
              "      <td>72.9333</td>\n",
              "      <td>23.0</td>\n",
              "      <td>6.73239</td>\n",
              "      <td>80.0846</td>\n",
              "      <td>6.73120</td>\n",
              "      <td>80.0811</td>\n",
              "      <td>88.4967</td>\n",
              "      <td>correct</td>\n",
              "      <td>2</td>\n",
              "      <td>2</td>\n",
              "      <td>9.550000</td>\n",
              "      <td>10.133333</td>\n",
              "      <td>3.696769</td>\n",
              "      <td>0.340010</td>\n",
              "      <td>852.0</td>\n",
              "      <td>2.468310</td>\n",
              "      <td>0.041773</td>\n",
              "      <td>9.627478</td>\n",
              "      <td>0.0583</td>\n",
              "      <td>0.456522</td>\n",
              "      <td>0.012324</td>\n",
              "      <td>2.840318</td>\n",
              "      <td>0.004339</td>\n",
              "      <td>1.468310</td>\n",
              "      <td>338.403620</td>\n",
              "    </tr>\n",
              "    <tr>\n",
              "      <th>9415</th>\n",
              "      <td>80.5</td>\n",
              "      <td>33.0</td>\n",
              "      <td>22.0</td>\n",
              "      <td>1.2826</td>\n",
              "      <td>6.0</td>\n",
              "      <td>6.83447</td>\n",
              "      <td>79.8764</td>\n",
              "      <td>6.83569</td>\n",
              "      <td>79.8770</td>\n",
              "      <td>49.9974</td>\n",
              "      <td>incorrect</td>\n",
              "      <td>5</td>\n",
              "      <td>5</td>\n",
              "      <td>10.250000</td>\n",
              "      <td>10.266667</td>\n",
              "      <td>1.359559</td>\n",
              "      <td>2.032995</td>\n",
              "      <td>11.0</td>\n",
              "      <td>3.000000</td>\n",
              "      <td>0.027193</td>\n",
              "      <td>0.220011</td>\n",
              "      <td>0.0583</td>\n",
              "      <td>13.416666</td>\n",
              "      <td>7.318182</td>\n",
              "      <td>59.210383</td>\n",
              "      <td>0.123596</td>\n",
              "      <td>2.000000</td>\n",
              "      <td>16.181720</td>\n",
              "    </tr>\n",
              "  </tbody>\n",
              "</table>\n",
              "</div>"
            ],
            "text/plain": [
              "       additional_fare  duration  ...  waiting_per_dur  waiting_per_dis\n",
              "12208             10.5     667.0  ...         0.035714         0.563173\n",
              "12614             10.5    2380.0  ...         0.000000         0.000000\n",
              "3461              10.5   16663.0  ...         1.016580     41184.368185\n",
              "6441              10.5    2103.0  ...         1.468310       338.403620\n",
              "9415              80.5      33.0  ...         2.000000        16.181720\n",
              "\n",
              "[5 rows x 28 columns]"
            ]
          },
          "metadata": {
            "tags": []
          },
          "execution_count": 64
        }
      ]
    },
    {
      "cell_type": "code",
      "metadata": {
        "id": "Ab8-sev9iqFY",
        "colab_type": "code",
        "colab": {
          "base_uri": "https://localhost:8080/",
          "height": 872
        },
        "outputId": "63e227b2-75a5-4d3e-c17a-753bfdc6f366"
      },
      "source": [
        "model = training(prepoccessed_df)"
      ],
      "execution_count": null,
      "outputs": [
        {
          "output_type": "stream",
          "text": [
            "MAE : 0.10638495343075083 MSE : 0.03651098165450793\n"
          ],
          "name": "stdout"
        },
        {
          "output_type": "display_data",
          "data": {
            "image/png": "[encoded data removed]",
            "text/plain": [
              "<Figure size 432x288 with 1 Axes>"
            ]
          },
          "metadata": {
            "tags": [],
            "needs_background": "light"
          }
        },
        {
          "output_type": "stream",
          "text": [
            "ROC AUC=0.99968\n"
          ],
          "name": "stdout"
        },
        {
          "output_type": "display_data",
          "data": {
            "image/png": "[encoded data removed]",
            "text/plain": [
              "<Figure size 432x288 with 1 Axes>"
            ]
          },
          "metadata": {
            "tags": [],
            "needs_background": "light"
          }
        },
        {
          "output_type": "stream",
          "text": [
            "ROC AUC=0.98805\n"
          ],
          "name": "stdout"
        },
        {
          "output_type": "display_data",
          "data": {
            "image/png": "[encoded data removed]",
            "text/plain": [
              "<Figure size 432x288 with 1 Axes>"
            ]
          },
          "metadata": {
            "tags": [],
            "needs_background": "light"
          }
        }
      ]
    },
    {
      "cell_type": "code",
      "metadata": {
        "id": "Kj6busxjHIym",
        "colab_type": "code",
        "colab": {
          "base_uri": "https://localhost:8080/",
          "height": 631
        },
        "outputId": "760f8341-fbaf-4b95-ea3e-445702406638"
      },
      "source": [
        "feature_important_lightgbm(model)"
      ],
      "execution_count": null,
      "outputs": [
        {
          "output_type": "display_data",
          "data": {
            "image/png": "[encoded data removed]",
            "text/plain": [
              "<Figure size 500x700 with 1 Axes>"
            ]
          },
          "metadata": {
            "tags": []
          }
        }
      ]
    },
    {
      "cell_type": "markdown",
      "metadata": {
        "id": "BNMOQCHqc3M_",
        "colab_type": "text"
      },
      "source": [
        "# SUBMISSION"
      ]
    },
    {
      "cell_type": "code",
      "metadata": {
        "id": "1x7OHeFfdaO5",
        "colab_type": "code",
        "colab": {}
      },
      "source": [
        "def testing(model):\n",
        "    df = pd.read_csv(\"/content/drive/My Drive/sem 7/test.csv\")\n",
        "\n",
        "    trip_id = df['tripid']\n",
        "    preprocessing(df)\n",
        "\n",
        "    y_pred = model.predict(df)\n",
        "    predictions = [round(value) for value in y_pred]\n",
        "    '''\n",
        "    hf_test = h2o.H2OFrame(df)\n",
        "    pred = xgb_model_1a.leader.predict(hf_test)\n",
        "    pf = h2o.as_list(pred)\n",
        "    \n",
        "    y_pred = pf['predict']\n",
        "    '''\n",
        "    l=[]\n",
        "    n=0\n",
        "    j=0\n",
        "    for i in y_pred:\n",
        "      if i<=0.46:\n",
        "        l.append(1)\n",
        "      else:\n",
        "        l.append(0)\n",
        "    print(n,j)\n",
        "\n",
        "    q= trip_id.to_frame()\n",
        "    q['prediction'] = pd.Series(np.array(l), index = q.index)\n",
        "\n",
        "    return q, j\n",
        "  "
      ],
      "execution_count": null,
      "outputs": []
    }
  ]
}